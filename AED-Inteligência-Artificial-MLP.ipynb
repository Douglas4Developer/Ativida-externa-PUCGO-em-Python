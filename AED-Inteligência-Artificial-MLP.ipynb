{
  "nbformat": 4,
  "nbformat_minor": 0,
  "metadata": {
    "colab": {
      "name": "AED.ipynb",
      "provenance": [],
      "collapsed_sections": [],
      "authorship_tag": "ABX9TyNH1msWOU0BXanjvz/jy0Xm",
      "include_colab_link": true
    },
    "kernelspec": {
      "name": "python3",
      "display_name": "Python 3"
    },
    "language_info": {
      "name": "python"
    }
  },
  "cells": [
    {
      "cell_type": "markdown",
      "metadata": {
        "id": "view-in-github",
        "colab_type": "text"
      },
      "source": [
        "<a href=\"https://colab.research.google.com/github/Douglas4Developer/uploadTest/blob/main/AED-Intelig%C3%AAncia-Artificial-MLP.ipynb\" target=\"_parent\"><img src=\"https://colab.research.google.com/assets/colab-badge.svg\" alt=\"Open In Colab\"/></a>"
      ]
    },
    {
      "cell_type": "code",
      "execution_count": null,
      "metadata": {
        "colab": {
          "base_uri": "https://localhost:8080/"
        },
        "id": "k11ZrIDpl_D9",
        "outputId": "1a81f502-8e3e-4742-bbe2-ddb58f384c7f"
      },
      "outputs": [
        {
          "output_type": "stream",
          "name": "stdout",
          "text": [
            "[[0.00488608]\n",
            " [0.00447384]\n",
            " [0.99650199]\n",
            " [0.99648652]]\n"
          ]
        }
      ],
      "source": [
        "#AED INTELIGENCIA ARTIFICIAL //AED FINAL\n",
        "#DOUGLAS S S FERREIRA // 20191002800283\n",
        "\n",
        "#XOR com MLP com Backpogation\n",
        "\n",
        "import numpy as np\n",
        "\n",
        "\n",
        "def sigmoid(g):\n",
        "    return 1 / (1 + np.exp(-2 * g))\n",
        "\n",
        "\n",
        "def sigmoid_gradient(g):\n",
        "    return g * (1 - g)\n",
        "\n",
        "\n",
        "def feedForwardProp(input_layer, output_layer, hidden_weights, output_weights, bias):\n",
        "    z2 = np.dot(input_layer, hidden_weights)\n",
        "    a2 = sigmoid(z2)\n",
        "    a2 = a2.T\n",
        "    a2 = np.vstack((a2, bias)).T\n",
        "    z3 = np.dot(a2, output_weights)\n",
        "    a3 = sigmoid(z3)\n",
        "    return a2, a3, hidden_weights, output_weights\n",
        "\n",
        "\n",
        "def backPropogation(input_layer, output_layer, hidden_weights, output_weights, bias, iterations):\n",
        "    for _ in range(iterations):\n",
        "        a2, a3, hidden_weights, output_weights = feedForwardProp(\n",
        "            input_layer, output_layer, hidden_weights, output_weights, bias)\n",
        "\n",
        "        error_a3 = output_layer - a3\n",
        "        error_a2 = np.dot(error_a3, output_weights[0:2, :].T) * \\\n",
        "            sigmoid(np.dot(input_layer, hidden_weights))\n",
        "\n",
        "        delta_a3 = error_a3 * sigmoid_gradient(a3)\n",
        "        delta_a2 = error_a2 * sigmoid_gradient(a2[:, 0:2])\n",
        "\n",
        "        #Atualizar pesos\n",
        "        output_weights += np.dot(a2.T, delta_a3)\n",
        "        hidden_weights += np.dot(input_layer.T, delta_a2)\n",
        "\n",
        "    return a3\n",
        "\n",
        "\n",
        "# Dados\n",
        "input_layer = np.array([[0, 0, 1], [0, 1, 1], [1, 0, 1], [1, 1, 1]])\n",
        "output_layer = np.array([[0, 0, 1, 1]]).T\n",
        "\n",
        "#Inicializando pesos aleatoriamente\n",
        "np.random.seed(1)\n",
        "hidden_weights = np.random.random((3, 2))\n",
        "output_weights = np.random.random((3, 1))\n",
        "\n",
        "# Número de iterações\n",
        "iterations = 10000\n",
        "\n",
        "# bias\n",
        "bias = np.ones((1, 4))\n",
        "\n",
        "print(backPropogation(input_layer, output_layer, hidden_weights, output_weights, bias, iterations))"
      ]
    }
  ]
}