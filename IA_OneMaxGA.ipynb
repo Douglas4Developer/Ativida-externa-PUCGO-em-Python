{
  "nbformat": 4,
  "nbformat_minor": 0,
  "metadata": {
    "colab": {
      "name": "IA OneMaxGA",
      "provenance": [],
      "collapsed_sections": [],
      "authorship_tag": "ABX9TyNrVasAfbRlB6KlONhXsZ3w",
      "include_colab_link": true
    },
    "kernelspec": {
      "name": "python3",
      "display_name": "Python 3"
    },
    "language_info": {
      "name": "python"
    }
  },
  "cells": [
    {
      "cell_type": "markdown",
      "metadata": {
        "id": "view-in-github",
        "colab_type": "text"
      },
      "source": [
        "<a href=\"https://colab.research.google.com/github/Douglas4Developer/Ativida-externa-PUCGO-em-Python/blob/main/IA_OneMaxGA.ipynb\" target=\"_parent\"><img src=\"https://colab.research.google.com/assets/colab-badge.svg\" alt=\"Open In Colab\"/></a>"
      ]
    },
    {
      "cell_type": "code",
      "execution_count": null,
      "metadata": {
        "id": "q2N-a5UujsZ8"
      },
      "outputs": [],
      "source": [
        "#PUCGO \n",
        "#Inteligencia Artificial \n",
        "#Aluno Douglas Soares de Souza Ferreira 20191002800283\n",
        "#Professor Clarimar \n",
        "\n",
        "import datetime\n",
        "import random\n",
        "import time\n",
        "#-------------------------------------------------------------------#\n",
        "#Problema OneMax utilizando algoritmo genetico                      #\n",
        "#é um programa que busca otimizar uma sequencia de genes entre 0 e 1#\n",
        "#-------------------------------------------------------------------#\n",
        "\n",
        "#Classe Cromossomo com seus atributos Genes e Fitness\n",
        "class Cromossomo:\n",
        "    def __init__(self, genes, fitness):\n",
        "        self.Genes = genes;\n",
        "        self.Fitness = fitness \n",
        "\n",
        "#função para gerar o pai passando o comprimento e o #reserva de Genes(0,1)e a função get_fitness \n",
        "def _gerar_pai(length, geneSet, get_fitness):\n",
        "    genes = [] #lista vazia\n",
        "    while len(genes) < length:      #gera  amostras\n",
        "        sampleSize = min(length - len(genes), len(geneSet))  #minimo (comprimento - os fenes eo geneSet)\n",
        "        genes.extend(random.sample(geneSet, sampleSize))    #amostra aleatória extraida da reserva de Genes  \n",
        "    fitness = get_fitness(genes)  #Calculo do Fitness com outra função \n",
        "    return Cromossomo(genes, fitness) #Gerando um Cromossomoso & o valor Fitness (numero de 1 uns na nossa lista dos dados)\n",
        "\n",
        "#Mutação  #objetivo #Processo aleatórios que faz a mutação da cadeia de Genes \n",
        "#Temos um pai que gerara um filho  / através de uma mutação vem o Filho sofrerá /\n",
        "#E a proxima geração de genes através de mutação vai estar em função de quão otimo é este Genes\n",
        "#atraves do Fitness do get_fitness\n",
        "def _mutation(parent, geneSet, get_fitness):      \n",
        "    childGenes = parent.Genes[:]\n",
        "    index = random.randrange(0, len(parent.Genes))\n",
        "    newGene, alternate = random.sample(geneSet, 2)\n",
        "    #Onde é feita mutação do bit 0 por 1 \n",
        "    childGenes[index] = alternate if newGene == childGenes[index] else newGene\n",
        "    fitness = get_fitness(childGenes)\n",
        "    return Cromossomo(childGenes, fitness)    #retorna o cromossomo  com o gene filho e o fitness\n",
        "    \n",
        "#Pega o melhor passando a #função fitness #numeros de elementos \n",
        "#numero de instancias de (1 uns) no vetor #reserva de Genes(0,1) #display\n",
        "\n",
        "def get_best(get_fitness, targetLen, optimalFitness, geneSet, display):\n",
        "    random.seed()    #para nossas instancias ex : 0,1,2..\n",
        "    bestParent = _gerar_pai(targetLen, geneSet, get_fitness)    #geração superior  \n",
        "    display(bestParent)     #imprimindo \n",
        "    #Se o cromossomo Pai é melhor que o Fitness retorna o Pai\n",
        "    if bestParent.Fitness >= optimalFitness:\n",
        "        return bestParent\n",
        "    #Ciclo interativo     \n",
        "    while True:\n",
        "        child = _mutation(bestParent, geneSet, get_fitness)  #Mutação do Filho\n",
        "        if bestParent.Fitness >= child.Fitness:    #O pai é melhor que o Filho? #se sim continua\n",
        "            continue\n",
        "        display(child) #imprimindo \n",
        "        if child.Fitness >= optimalFitness:  #O filho é melhor que o Pai ? #se sim retorna o filho\n",
        "            return child\n",
        "        bestParent = child #reinicializa as variaveis para a mutação da proxima geração \n",
        "        "
      ]
    },
    {
      "cell_type": "code",
      "source": [
        "#função que obtem os 1 do vetor\n",
        "def get_fitness(genes):\n",
        "    return genes.count(1) \n",
        "\n",
        "#função para imprimir o resultado #Com a funão de diferença de tempo e impressão \n",
        "def display(candidate, startTime):\n",
        "    timeDiff = datetime.datetime.now() - startTime\n",
        "    print(\"{}...{}\\t{:3.2f}\\t{}\".format(\n",
        "        ''.join(map(str, candidate.Genes[:5])),  #primeiro 5 genes\n",
        "        ''.join(map(str, candidate.Genes[-5:])), #ultimos 5 genes\n",
        "        candidate.Fitness,\n",
        "        timeDiff))\n",
        "\n",
        "\n",
        "def OneMax(self, length=10):\n",
        "    geneset = [0, 1] #reserva de genes\n",
        "    startTime = datetime.datetime.now()\n",
        "\n",
        "    def fnDisplay(candidate):\n",
        "        display(candidate, startTime)\n",
        "    \n",
        "    def fnGetFitness(genes):\n",
        "        return get_fitness(genes)\n",
        "   # fitness igual o comprimento do array\n",
        "    optimalFitness = length\n",
        "            #Recebe as entradas\n",
        "    best = get_best(fnGetFitness, length, optimalFitness, geneset, fnDisplay)\n",
        "    \n",
        "  \n",
        "#genes # fitness #tempo\n"
      ],
      "metadata": {
        "id": "fnDcMcY5j1px"
      },
      "execution_count": null,
      "outputs": []
    },
    {
      "cell_type": "code",
      "source": [
        "OneMax(0)"
      ],
      "metadata": {
        "id": "1of1M8cDj5MR",
        "colab": {
          "base_uri": "https://localhost:8080/"
        },
        "outputId": "db94661a-c7c5-4f7a-c25b-5d6c36512910"
      },
      "execution_count": null,
      "outputs": [
        {
          "output_type": "stream",
          "name": "stdout",
          "text": [
            "10010...10110\t5.00\t0:00:00.000685\n",
            "11010...10110\t6.00\t0:00:00.000892\n",
            "11110...10110\t7.00\t0:00:00.000988\n",
            "11110...10111\t8.00\t0:00:00.001074\n",
            "11110...11111\t9.00\t0:00:00.001184\n",
            "11111...11111\t10.00\t0:00:00.001266\n"
          ]
        }
      ]
    }
  ]
}